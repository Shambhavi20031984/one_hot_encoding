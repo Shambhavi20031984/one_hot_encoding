{
 "cells": [
  {
   "cell_type": "code",
   "execution_count": 3,
   "id": "7f36c146-b492-483b-9b35-e6f35dc60328",
   "metadata": {},
   "outputs": [
    {
     "name": "stdout",
     "output_type": "stream",
     "text": [
      "  Category  Category_Apple  Category_Banana  Category_Grapes  Category_Orange\n",
      "0    Apple             1.0              0.0              0.0              0.0\n",
      "1   Banana             0.0              1.0              0.0              0.0\n",
      "2   Orange             0.0              0.0              0.0              1.0\n",
      "3    Apple             1.0              0.0              0.0              0.0\n",
      "4   Banana             0.0              1.0              0.0              0.0\n",
      "5   Grapes             0.0              0.0              1.0              0.0\n"
     ]
    }
   ],
   "source": [
    "import pandas as pd\n",
    "from sklearn.preprocessing import OneHotEncoder\n",
    "\n",
    "# Sample dataset\n",
    "data = {'Category': ['Apple', 'Banana', 'Orange', 'Apple', 'Banana', 'Grapes']}\n",
    "df = pd.DataFrame(data)\n",
    "\n",
    "# Initialize OneHotEncoder\n",
    "encoder = OneHotEncoder(sparse_output=False)\n",
    "\n",
    "# Fit and transform data\n",
    "encoded_array = encoder.fit_transform(df[['Category']])\n",
    "\n",
    "# Convert to DataFrame\n",
    "encoded_df = pd.DataFrame(encoded_array, columns=encoder.get_feature_names_out(['Category']))\n",
    "\n",
    "# Concatenate original and encoded data\n",
    "result_df = pd.concat([df, encoded_df], axis=1)\n",
    "\n",
    "print(result_df)\n"
   ]
  },
  {
   "cell_type": "code",
   "execution_count": null,
   "id": "187d377d-42b8-4dca-b3d8-6000839ef50a",
   "metadata": {},
   "outputs": [],
   "source": []
  }
 ],
 "metadata": {
  "kernelspec": {
   "display_name": "Python 3 (ipykernel)",
   "language": "python",
   "name": "python3"
  },
  "language_info": {
   "codemirror_mode": {
    "name": "ipython",
    "version": 3
   },
   "file_extension": ".py",
   "mimetype": "text/x-python",
   "name": "python",
   "nbconvert_exporter": "python",
   "pygments_lexer": "ipython3",
   "version": "3.12.4"
  }
 },
 "nbformat": 4,
 "nbformat_minor": 5
}
